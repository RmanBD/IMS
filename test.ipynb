{
 "cells": [
  {
   "cell_type": "code",
   "execution_count": 4,
   "metadata": {},
   "outputs": [
    {
     "ename": "AhkExecutableNotFoundError",
     "evalue": "Could not find AutoHotkey.exe on PATH. Provide the absolute path with the `executable_path` keyword argument or in the AHK_PATH environment variable. You may be able to resolve this error by installing the binary extra: pip install \"ahk[binary]\"",
     "output_type": "error",
     "traceback": [
      "\u001b[1;31m---------------------------------------------------------------------------\u001b[0m",
      "\u001b[1;31mAhkExecutableNotFoundError\u001b[0m                Traceback (most recent call last)",
      "\u001b[1;32mg:\\Osource\\python\\inventoryManagement\\test.ipynb Cell 1\u001b[0m line \u001b[0;36m8\n\u001b[0;32m      <a href='vscode-notebook-cell:/g%3A/Osource/python/inventoryManagement/test.ipynb#W0sZmlsZQ%3D%3D?line=3'>4</a>\u001b[0m \u001b[39mdef\u001b[39;00m \u001b[39msomefunc\u001b[39m():\n\u001b[0;32m      <a href='vscode-notebook-cell:/g%3A/Osource/python/inventoryManagement/test.ipynb#W0sZmlsZQ%3D%3D?line=4'>5</a>\u001b[0m     \u001b[39mprint\u001b[39m(\u001b[39m'\u001b[39m\u001b[39mHello World\u001b[39m\u001b[39m'\u001b[39m)\n\u001b[1;32m----> <a href='vscode-notebook-cell:/g%3A/Osource/python/inventoryManagement/test.ipynb#W0sZmlsZQ%3D%3D?line=7'>8</a>\u001b[0m ahk \u001b[39m=\u001b[39m AHK()\n\u001b[0;32m      <a href='vscode-notebook-cell:/g%3A/Osource/python/inventoryManagement/test.ipynb#W0sZmlsZQ%3D%3D?line=8'>9</a>\u001b[0m ahk\u001b[39m.\u001b[39madd_hotkey(\u001b[39m'\u001b[39m\u001b[39m^p\u001b[39m\u001b[39m'\u001b[39m,callback\u001b[39m=\u001b[39msomefunc)\n\u001b[0;32m     <a href='vscode-notebook-cell:/g%3A/Osource/python/inventoryManagement/test.ipynb#W0sZmlsZQ%3D%3D?line=10'>11</a>\u001b[0m ahk\u001b[39m.\u001b[39mstart_hotkeys()\n",
      "File \u001b[1;32md:\\Py\\Lib\\site-packages\\ahk\\_sync\\engine.py:138\u001b[0m, in \u001b[0;36mAHK.__init__\u001b[1;34m(self, TransportClass, directives, executable_path)\u001b[0m\n\u001b[0;32m    136\u001b[0m     TransportClass \u001b[39m=\u001b[39m DaemonProcessTransport\n\u001b[0;32m    137\u001b[0m \u001b[39massert\u001b[39;00m TransportClass \u001b[39mis\u001b[39;00m \u001b[39mnot\u001b[39;00m \u001b[39mNone\u001b[39;00m\n\u001b[1;32m--> 138\u001b[0m transport \u001b[39m=\u001b[39m TransportClass(executable_path\u001b[39m=\u001b[39;49mexecutable_path, directives\u001b[39m=\u001b[39;49mdirectives)\n\u001b[0;32m    139\u001b[0m \u001b[39mself\u001b[39m\u001b[39m.\u001b[39m_transport: Transport \u001b[39m=\u001b[39m transport\n",
      "File \u001b[1;32md:\\Py\\Lib\\site-packages\\ahk\\_sync\\transport.py:662\u001b[0m, in \u001b[0;36mDaemonProcessTransport.__init__\u001b[1;34m(self, executable_path, directives, jinja_loader, template)\u001b[0m\n\u001b[0;32m    660\u001b[0m     template \u001b[39m=\u001b[39m \u001b[39mself\u001b[39m\u001b[39m.\u001b[39m__template\n\u001b[0;32m    661\u001b[0m \u001b[39mself\u001b[39m\u001b[39m.\u001b[39m_template: jinja2\u001b[39m.\u001b[39mTemplate \u001b[39m=\u001b[39m template\n\u001b[1;32m--> 662\u001b[0m \u001b[39msuper\u001b[39;49m()\u001b[39m.\u001b[39;49m\u001b[39m__init__\u001b[39;49m(executable_path\u001b[39m=\u001b[39;49mexecutable_path, directives\u001b[39m=\u001b[39;49mdirectives)\n",
      "File \u001b[1;32md:\\Py\\Lib\\site-packages\\ahk\\_sync\\transport.py:325\u001b[0m, in \u001b[0;36mTransport.__init__\u001b[1;34m(self, executable_path, directives, **kwargs)\u001b[0m\n\u001b[0;32m    318\u001b[0m \u001b[39mdef\u001b[39;00m \u001b[39m__init__\u001b[39m(\n\u001b[0;32m    319\u001b[0m     \u001b[39mself\u001b[39m,\n\u001b[0;32m    320\u001b[0m     \u001b[39m/\u001b[39m,\n\u001b[1;32m   (...)\u001b[0m\n\u001b[0;32m    323\u001b[0m     \u001b[39m*\u001b[39m\u001b[39m*\u001b[39mkwargs: Any,\n\u001b[0;32m    324\u001b[0m ):\n\u001b[1;32m--> 325\u001b[0m     \u001b[39mself\u001b[39m\u001b[39m.\u001b[39m_executable_path: \u001b[39mstr\u001b[39m \u001b[39m=\u001b[39m _resolve_executable_path(executable_path\u001b[39m=\u001b[39;49mexecutable_path)\n\u001b[0;32m    326\u001b[0m     \u001b[39mself\u001b[39m\u001b[39m.\u001b[39m_hotkey_transport \u001b[39m=\u001b[39m ThreadedHotkeyTransport(executable_path\u001b[39m=\u001b[39m\u001b[39mself\u001b[39m\u001b[39m.\u001b[39m_executable_path, directives\u001b[39m=\u001b[39mdirectives)\n\u001b[0;32m    327\u001b[0m     \u001b[39mself\u001b[39m\u001b[39m.\u001b[39m_directives: \u001b[39mlist\u001b[39m[Union[Directive, Type[Directive]]] \u001b[39m=\u001b[39m directives \u001b[39mor\u001b[39;00m []\n",
      "File \u001b[1;32md:\\Py\\Lib\\site-packages\\ahk\\_sync\\transport.py:291\u001b[0m, in \u001b[0;36m_resolve_executable_path\u001b[1;34m(executable_path)\u001b[0m\n\u001b[0;32m    288\u001b[0m         executable_path \u001b[39m=\u001b[39m DEFAULT_EXECUTABLE_PATH\n\u001b[0;32m    290\u001b[0m \u001b[39mif\u001b[39;00m \u001b[39mnot\u001b[39;00m executable_path:\n\u001b[1;32m--> 291\u001b[0m     \u001b[39mraise\u001b[39;00m AhkExecutableNotFoundError(\n\u001b[0;32m    292\u001b[0m         \u001b[39m'\u001b[39m\u001b[39mCould not find AutoHotkey.exe on PATH. \u001b[39m\u001b[39m'\u001b[39m\n\u001b[0;32m    293\u001b[0m         \u001b[39m'\u001b[39m\u001b[39mProvide the absolute path with the `executable_path` keyword argument \u001b[39m\u001b[39m'\u001b[39m\n\u001b[0;32m    294\u001b[0m         \u001b[39m'\u001b[39m\u001b[39mor in the AHK_PATH environment variable. \u001b[39m\u001b[39m'\u001b[39m\n\u001b[0;32m    295\u001b[0m         \u001b[39m'\u001b[39m\u001b[39mYou may be able to resolve this error by installing the binary extra: pip install \u001b[39m\u001b[39m\"\u001b[39m\u001b[39mahk[binary]\u001b[39m\u001b[39m\"\u001b[39m\u001b[39m'\u001b[39m\n\u001b[0;32m    296\u001b[0m     )\n\u001b[0;32m    298\u001b[0m \u001b[39mif\u001b[39;00m \u001b[39mnot\u001b[39;00m os\u001b[39m.\u001b[39mpath\u001b[39m.\u001b[39mexists(executable_path):\n\u001b[0;32m    299\u001b[0m     \u001b[39mraise\u001b[39;00m AhkExecutableNotFoundError(\u001b[39mf\u001b[39m\u001b[39m\"\u001b[39m\u001b[39mexecutable_path does not seems to exist: \u001b[39m\u001b[39m'\u001b[39m\u001b[39m{\u001b[39;00mexecutable_path\u001b[39m}\u001b[39;00m\u001b[39m'\u001b[39m\u001b[39m not found\u001b[39m\u001b[39m\"\u001b[39m)\n",
      "\u001b[1;31mAhkExecutableNotFoundError\u001b[0m: Could not find AutoHotkey.exe on PATH. Provide the absolute path with the `executable_path` keyword argument or in the AHK_PATH environment variable. You may be able to resolve this error by installing the binary extra: pip install \"ahk[binary]\""
     ]
    }
   ],
   "source": []
  }
 ],
 "metadata": {
  "kernelspec": {
   "display_name": "Python 3",
   "language": "python",
   "name": "python3"
  },
  "language_info": {
   "codemirror_mode": {
    "name": "ipython",
    "version": 3
   },
   "file_extension": ".py",
   "mimetype": "text/x-python",
   "name": "python",
   "nbconvert_exporter": "python",
   "pygments_lexer": "ipython3",
   "version": "3.11.5"
  },
  "orig_nbformat": 4
 },
 "nbformat": 4,
 "nbformat_minor": 2
}
